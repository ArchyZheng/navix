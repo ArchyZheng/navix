{
 "cells": [
  {
   "attachments": {},
   "cell_type": "markdown",
   "metadata": {
    "colab_type": "text",
    "id": "view-in-github"
   },
   "source": [
    "<a href=\"https://colab.research.google.com/github/epignatelli/navix/blob/master/docs/performance.ipynb\" target=\"_parent\"><img src=\"https://colab.research.google.com/assets/colab-badge.svg\" alt=\"Open In Colab\"/></a>"
   ]
  },
  {
   "cell_type": "code",
   "execution_count": null,
   "metadata": {
    "colab": {
     "base_uri": "https://localhost:8080/"
    },
    "id": "LWXsFY0rpNs7",
    "outputId": "2299207e-7ee7-470a-cfae-db3594560033"
   },
   "outputs": [],
   "source": [
    "!pip install -q git+https://github.com/epignatelli/navix minigrid"
   ]
  },
  {
   "cell_type": "code",
   "execution_count": null,
   "metadata": {
    "id": "E7Nd2DmipPkg"
   },
   "outputs": [
    {
     "name": "stderr",
     "output_type": "stream",
     "text": [
      "CUDA backend failed to initialize: Found cuBLAS version 120205, but JAX was built against version 120304, which is newer. The copy of cuBLAS that is installed must be at least as new as the version against which JAX was built. (Set TF_CPP_MIN_LOG_LEVEL=0 and rerun for more info.)\n"
     ]
    },
    {
     "name": "stdout",
     "output_type": "stream",
     "text": [
      "pygame 2.5.0 (SDL 2.28.0, Python 3.10.12)\n",
      "Hello from the pygame community. https://www.pygame.org/contribute.html\n",
      "Profiling navix, N_SEEDS = 10000, N_TIMESTEPS = 1000\n",
      "\tCompiling...\n",
      "\tCompiled in 2.11s\n",
      "\tRunning ...\n"
     ]
    }
   ],
   "source": [
    "import jax\n",
    "import jax.numpy as jnp\n",
    "import navix as nx\n",
    "\n",
    "import gymnasium as gym\n",
    "import minigrid\n",
    "import random\n",
    "import time\n",
    "\n",
    "from timeit import timeit\n",
    "\n",
    "\n",
    "N_TIMEIT_LOOPS = 5\n",
    "N_TIMESTEPS = 1_000\n",
    "N_SEEDS = 10_000\n",
    "\n",
    "\n",
    "def profile_navix(seed):\n",
    "    env = nx.environments.Room(16, 16, 8)\n",
    "    key = jax.random.PRNGKey(seed)\n",
    "    timestep = env.reset(key)\n",
    "    actions = jax.random.randint(key, (N_TIMESTEPS,), 0, 6)\n",
    "\n",
    "    timestep, _ = jax.lax.while_loop(\n",
    "        lambda x: x[1] < N_TIMESTEPS,\n",
    "        lambda x: (env.step(x[0], actions[x[1]]), x[1] + 1),\n",
    "        (timestep, jnp.asarray(0)),\n",
    "    )\n",
    "\n",
    "    return timestep\n",
    "\n",
    "\n",
    "def profile_minigrid(seed):\n",
    "    env = gym.make(\"MiniGrid-Empty-16x16-v0\", render_mode=None)\n",
    "    observation, info = env.reset(seed=42)\n",
    "    for _ in range(N_TIMESTEPS):\n",
    "        action = random.randint(0, 4)\n",
    "        observation, reward, terminated, truncated, info = env.step(action)\n",
    "\n",
    "        if terminated or truncated:\n",
    "            observation, info = env.reset()\n",
    "    env.close()\n",
    "    return observation\n",
    "\n",
    "\n",
    "if __name__ == \"__main__\":\n",
    "    # profile navix\n",
    "    print(\n",
    "        \"Profiling navix, N_SEEDS = {}, N_TIMESTEPS = {}\".format(N_SEEDS, N_TIMESTEPS)\n",
    "    )\n",
    "    seeds = jnp.arange(N_SEEDS)\n",
    "\n",
    "    print(\"\\tCompiling...\")\n",
    "    start = time.time()\n",
    "    n_devices = jax.local_device_count()\n",
    "    seeds = seeds.reshape(n_devices, N_SEEDS // n_devices)\n",
    "    f = jax.vmap(profile_navix, axis_name=\"batch\")\n",
    "    f = jax.pmap(f, axis_name=\"device\")\n",
    "    f = f.lower(seeds).compile()\n",
    "    print(\"\\tCompiled in {:.2f}s\".format(time.time() - start))\n",
    "\n",
    "    print(\"\\tRunning ...\")\n",
    "    res_navix = timeit(\n",
    "        lambda: f(seeds).state.grid.block_until_ready(), number=N_TIMEIT_LOOPS\n",
    "    )\n",
    "    print(res_navix)\n",
    "\n",
    "    # profile minigrid\n",
    "    print(\"Profiling minigrid, N_SEEDS = 1, N_TIMESTEPS = {}\".format(N_TIMESTEPS))\n",
    "    res_minigrid = timeit(lambda: profile_minigrid(0), number=N_TIMEIT_LOOPS)\n",
    "    print(res_minigrid)"
   ]
  },
  {
   "cell_type": "code",
   "execution_count": null,
   "metadata": {
    "id": "5reQuYCeuP_q"
   },
   "outputs": [],
   "source": []
  }
 ],
 "metadata": {
  "accelerator": "GPU",
  "colab": {
   "gpuType": "T4",
   "include_colab_link": true,
   "provenance": []
  },
  "kernelspec": {
   "display_name": "Python 3 (ipykernel)",
   "language": "python",
   "name": "python3"
  },
  "language_info": {
   "codemirror_mode": {
    "name": "ipython",
    "version": 3
   },
   "file_extension": ".py",
   "mimetype": "text/x-python",
   "name": "python",
   "nbconvert_exporter": "python",
   "pygments_lexer": "ipython3",
   "version": "3.10.12"
  }
 },
 "nbformat": 4,
 "nbformat_minor": 4
}
